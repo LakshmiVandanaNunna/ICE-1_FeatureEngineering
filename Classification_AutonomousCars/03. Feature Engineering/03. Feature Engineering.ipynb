{
 "cells": [
  {
   "cell_type": "markdown",
   "metadata": {},
   "source": [
    "# Feature Engineering"
   ]
  },
  {
   "cell_type": "markdown",
   "metadata": {},
   "source": [
    "The next step is to create features from the raw text so we can train the machine learning models. The steps followed are:\n",
    "\n",
    "1. **Text Cleaning and Preparation**: cleaning of special characters, downcasing, punctuation signs. possessive pronouns and stop words removal and lemmatization. \n",
    "2. **Label coding**: creation of a dictionary to map each category to a code.\n",
    "3. **Train-test split**: to test the models on unseen data.\n",
    "4. **Text representation**: use of TF-IDF scores to represent text."
   ]
  },
  {
   "cell_type": "code",
   "execution_count": 150,
   "metadata": {},
   "outputs": [],
   "source": [
    "import pickle\n",
    "import pandas as pd\n",
    "import re\n",
    "import nltk\n",
    "from nltk.corpus import stopwords\n",
    "from nltk.stem import WordNetLemmatizer\n",
    "from sklearn.feature_extraction.text import TfidfVectorizer\n",
    "from sklearn.model_selection import train_test_split\n",
    "from sklearn.feature_selection import chi2\n",
    "import numpy as np"
   ]
  },
  {
   "cell_type": "markdown",
   "metadata": {},
   "source": [
    "First of all we'll load the dataset:"
   ]
  },
  {
   "cell_type": "code",
   "execution_count": 151,
   "metadata": {},
   "outputs": [],
   "source": [
    "path_df = \"../02. Exploratory Data Analysis/AutonomousCars_dataset.pickle\"\n",
    "\n",
    "with open(path_df, 'rb') as data:\n",
    "    df = pickle.load(data)"
   ]
  },
  {
   "cell_type": "code",
   "execution_count": 152,
   "metadata": {},
   "outputs": [
    {
     "data": {
      "text/html": [
       "<div>\n",
       "<style scoped>\n",
       "    .dataframe tbody tr th:only-of-type {\n",
       "        vertical-align: middle;\n",
       "    }\n",
       "\n",
       "    .dataframe tbody tr th {\n",
       "        vertical-align: top;\n",
       "    }\n",
       "\n",
       "    .dataframe thead th {\n",
       "        text-align: right;\n",
       "    }\n",
       "</style>\n",
       "<table border=\"1\" class=\"dataframe\">\n",
       "  <thead>\n",
       "    <tr style=\"text-align: right;\">\n",
       "      <th></th>\n",
       "      <th>File_Name</th>\n",
       "      <th>Content</th>\n",
       "      <th>Category</th>\n",
       "      <th>Complete_Filename</th>\n",
       "      <th>id</th>\n",
       "      <th>News_length</th>\n",
       "    </tr>\n",
       "  </thead>\n",
       "  <tbody>\n",
       "    <tr>\n",
       "      <th>0</th>\n",
       "      <td>1.txt</td>\n",
       "      <td>b'Road vehicle that is capable of moving safel...</td>\n",
       "      <td>Autonomous Cars</td>\n",
       "      <td>1.txt-Autonomous Cars</td>\n",
       "      <td>1</td>\n",
       "      <td>100847</td>\n",
       "    </tr>\n",
       "    <tr>\n",
       "      <th>1</th>\n",
       "      <td>100.txt</td>\n",
       "      <td>b\"The U.S. Department of Transportation (USDOT...</td>\n",
       "      <td>Autonomous Cars</td>\n",
       "      <td>100.txt-Autonomous Cars</td>\n",
       "      <td>1</td>\n",
       "      <td>2239</td>\n",
       "    </tr>\n",
       "    <tr>\n",
       "      <th>2</th>\n",
       "      <td>101.txt</td>\n",
       "      <td>b'National Security Implications of Leadership...</td>\n",
       "      <td>Autonomous Cars</td>\n",
       "      <td>101.txt-Autonomous Cars</td>\n",
       "      <td>1</td>\n",
       "      <td>28636</td>\n",
       "    </tr>\n",
       "    <tr>\n",
       "      <th>3</th>\n",
       "      <td>102.txt</td>\n",
       "      <td>b'Road vehicle that is capable of moving safel...</td>\n",
       "      <td>Autonomous Cars</td>\n",
       "      <td>102.txt-Autonomous Cars</td>\n",
       "      <td>1</td>\n",
       "      <td>100847</td>\n",
       "    </tr>\n",
       "    <tr>\n",
       "      <th>4</th>\n",
       "      <td>104.txt</td>\n",
       "      <td>b'The dream of the self-driving car \\xe2\\x80\\x...</td>\n",
       "      <td>Autonomous Cars</td>\n",
       "      <td>104.txt-Autonomous Cars</td>\n",
       "      <td>1</td>\n",
       "      <td>17677</td>\n",
       "    </tr>\n",
       "  </tbody>\n",
       "</table>\n",
       "</div>"
      ],
      "text/plain": [
       "  File_Name                                            Content  \\\n",
       "0     1.txt  b'Road vehicle that is capable of moving safel...   \n",
       "1   100.txt  b\"The U.S. Department of Transportation (USDOT...   \n",
       "2   101.txt  b'National Security Implications of Leadership...   \n",
       "3   102.txt  b'Road vehicle that is capable of moving safel...   \n",
       "4   104.txt  b'The dream of the self-driving car \\xe2\\x80\\x...   \n",
       "\n",
       "          Category        Complete_Filename  id  News_length  \n",
       "0  Autonomous Cars    1.txt-Autonomous Cars   1       100847  \n",
       "1  Autonomous Cars  100.txt-Autonomous Cars   1         2239  \n",
       "2  Autonomous Cars  101.txt-Autonomous Cars   1        28636  \n",
       "3  Autonomous Cars  102.txt-Autonomous Cars   1       100847  \n",
       "4  Autonomous Cars  104.txt-Autonomous Cars   1        17677  "
      ]
     },
     "execution_count": 152,
     "metadata": {},
     "output_type": "execute_result"
    }
   ],
   "source": [
    "df.head()"
   ]
  },
  {
   "cell_type": "markdown",
   "metadata": {},
   "source": [
    "And visualize one sample news content:"
   ]
  },
  {
   "cell_type": "code",
   "execution_count": 153,
   "metadata": {},
   "outputs": [
    {
     "data": {
      "text/plain": [
       "'b\"The U.S. Department of Transportation (USDOT) is committed to facilitating a new era of transportation innovation and safety and ensuring that our country remains a leader in automation. USDOT is acting as a convener and facilitator, partnering with a broad coalition of industry, academic, states and local, safety advocacy, and transportation stakeholders to support the safe development, testing, and integration of automated vehicle technologies.\\\\n\\\\nUSDOT developed the Automated Vehicles Comprehensive Plan to advance the Department\\'s work to prioritize safety while preparing for the future of transportation. Building upon the principles stated in AV 4.0, the plan defines three goals to achieve this vision for Automated Driving Systems (ADS): Promote Collaboration and Transparency, Modernize the Regulatory Environment, and Prepare the Transportation System\\\\n\\\\nUSDOT and the White House Office of Science and Technology Policy developed Ensuring American Leadership in Automated Vehicle Technologies: Automated Vehicles 4.0 (AV 4.0). AV 4.0 builds upon Preparing for the Future of Transportation: Automated Vehicles 3.0 (AV 3.0) and expands the scope to 38 relevant United States Government (USG) components that have direct or tangential equities in the safe development and integration of AV technologies. AV 4.0 seeks to ensure a consistent USG approach to AV technologies, and to detail the authorities, research, and investments being made across the USG so that the United States can continue to lead AV technologies\\\\xe2\\\\x80\\\\x99 research, development, and integration.\\\\n\\\\nAV 3.0 builds upon Automated Driving Systems: A Vision for Safety 2.0 (ADS 2.0) and expands the scope to provide an USDOT framework and multimodal approach to the safe integration of AVs into the Nation\\\\xe2\\\\x80\\\\x99s broader surface transportation system.\\\\n\\\\nADS 2.0 is USDOT\\'s cornerstone voluntary guidance document for Automated Driving Systems.\\\\n\\\\nThis webpage provides information about the Comprehensive Management Plan for Automated Vehicle Initiatives, the Department\\\\xe2\\\\x80\\\\x99s recent and upcoming activities related to automation, as well as access to resources for learning more about automated vehicles and data relevant to automation.\"'"
      ]
     },
     "execution_count": 153,
     "metadata": {},
     "output_type": "execute_result"
    }
   ],
   "source": [
    "df.loc[1]['Content']"
   ]
  },
  {
   "cell_type": "markdown",
   "metadata": {},
   "source": [
    "## 1. Text cleaning and preparation"
   ]
  },
  {
   "cell_type": "markdown",
   "metadata": {},
   "source": [
    "### 1.1. Special character cleaning\n",
    "\n",
    "We can see the following special characters:\n",
    "\n",
    "* ``\\r``\n",
    "* ``\\n``\n",
    "* ``\\`` before possessive pronouns (`government's = government\\'s`)\n",
    "* ``\\`` before possessive pronouns 2 (`Yukos'` = `Yukos\\'`)\n",
    "* ``\"`` when quoting text"
   ]
  },
  {
   "cell_type": "code",
   "execution_count": 154,
   "metadata": {},
   "outputs": [],
   "source": [
    "# \\r and \\n\n",
    "df['Content_Parsed_1'] = df['Content'].str.replace(\"\\r\", \" \")\n",
    "df['Content_Parsed_1'] = df['Content_Parsed_1'].str.replace(\"\\n\", \" \")\n",
    "df['Content_Parsed_1'] = df['Content_Parsed_1'].str.replace(\"    \", \" \")"
   ]
  },
  {
   "cell_type": "markdown",
   "metadata": {},
   "source": [
    "Regarding 3rd and 4th bullet, although it seems there is a special character, it won't affect us since it is not a *real* character:"
   ]
  },
  {
   "cell_type": "code",
   "execution_count": 155,
   "metadata": {},
   "outputs": [
    {
     "data": {
      "text/plain": [
       "\"Mr Greenspan's\""
      ]
     },
     "execution_count": 155,
     "metadata": {},
     "output_type": "execute_result"
    }
   ],
   "source": [
    "text = \"Mr Greenspan\\'s\"\n",
    "text"
   ]
  },
  {
   "cell_type": "code",
   "execution_count": 156,
   "metadata": {},
   "outputs": [],
   "source": [
    "# \" when quoting text\n",
    "df['Content_Parsed_1'] = df['Content_Parsed_1'].str.replace('\"', '')"
   ]
  },
  {
   "cell_type": "markdown",
   "metadata": {},
   "source": [
    "### 1.2. Upcase/downcase"
   ]
  },
  {
   "cell_type": "markdown",
   "metadata": {},
   "source": [
    "We'll downcase the texts because we want, for example, `Football` and `football` to be the same word."
   ]
  },
  {
   "cell_type": "code",
   "execution_count": 157,
   "metadata": {},
   "outputs": [],
   "source": [
    "# Lowercasing the text\n",
    "df['Content_Parsed_2'] = df['Content_Parsed_1'].str.lower()"
   ]
  },
  {
   "cell_type": "markdown",
   "metadata": {},
   "source": [
    "### 1.3. Punctuation signs"
   ]
  },
  {
   "cell_type": "markdown",
   "metadata": {},
   "source": [
    "Punctuation signs won't have any predicting power, so we'll just get rid of them."
   ]
  },
  {
   "cell_type": "code",
   "execution_count": 158,
   "metadata": {},
   "outputs": [
    {
     "name": "stderr",
     "output_type": "stream",
     "text": [
      "<ipython-input-158-cdceb98d92a9>:5: FutureWarning: The default value of regex will change from True to False in a future version. In addition, single character regular expressions will*not* be treated as literal strings when regex=True.\n",
      "  df['Content_Parsed_3'] = df['Content_Parsed_3'].str.replace(punct_sign, '')\n"
     ]
    }
   ],
   "source": [
    "punctuation_signs = list(\"?:!.,;\")\n",
    "df['Content_Parsed_3'] = df['Content_Parsed_2']\n",
    "\n",
    "for punct_sign in punctuation_signs:\n",
    "    df['Content_Parsed_3'] = df['Content_Parsed_3'].str.replace(punct_sign, '')"
   ]
  },
  {
   "cell_type": "markdown",
   "metadata": {},
   "source": [
    "By doing this we are messing up with some numbers, but it's no problem since we aren't expecting any predicting power from them."
   ]
  },
  {
   "cell_type": "markdown",
   "metadata": {},
   "source": [
    "### 1.4. Possessive pronouns"
   ]
  },
  {
   "cell_type": "markdown",
   "metadata": {},
   "source": [
    "We'll also remove possessive pronoun terminations:"
   ]
  },
  {
   "cell_type": "code",
   "execution_count": 159,
   "metadata": {},
   "outputs": [],
   "source": [
    "df['Content_Parsed_4'] = df['Content_Parsed_3'].str.replace(\"'s\", \"\")"
   ]
  },
  {
   "cell_type": "markdown",
   "metadata": {},
   "source": [
    "### 1.5. Stemming and Lemmatization\n",
    "\n",
    "Since stemming can produce output words that don't exist, we'll only use a lemmatization process at this moment. Lemmatization takes into consideration the morphological analysis of the words and returns words that do exist, so it will be more useful for us."
   ]
  },
  {
   "cell_type": "code",
   "execution_count": 160,
   "metadata": {},
   "outputs": [
    {
     "name": "stdout",
     "output_type": "stream",
     "text": [
      "------------------------------------------------------------\n"
     ]
    },
    {
     "name": "stderr",
     "output_type": "stream",
     "text": [
      "[nltk_data] Downloading package punkt to\n",
      "[nltk_data]     C:\\Users\\mohan\\AppData\\Roaming\\nltk_data...\n",
      "[nltk_data]   Package punkt is already up-to-date!\n",
      "[nltk_data] Downloading package wordnet to\n",
      "[nltk_data]     C:\\Users\\mohan\\AppData\\Roaming\\nltk_data...\n",
      "[nltk_data]   Package wordnet is already up-to-date!\n"
     ]
    },
    {
     "data": {
      "text/plain": [
       "True"
      ]
     },
     "execution_count": 160,
     "metadata": {},
     "output_type": "execute_result"
    }
   ],
   "source": [
    "# Downloading punkt and wordnet from NLTK\n",
    "nltk.download('punkt')\n",
    "print(\"------------------------------------------------------------\")\n",
    "nltk.download('wordnet')"
   ]
  },
  {
   "cell_type": "code",
   "execution_count": 161,
   "metadata": {},
   "outputs": [],
   "source": [
    "# Saving the lemmatizer into an object\n",
    "wordnet_lemmatizer = WordNetLemmatizer()"
   ]
  },
  {
   "cell_type": "markdown",
   "metadata": {},
   "source": [
    "In order to lemmatize, we have to iterate through every word:"
   ]
  },
  {
   "cell_type": "code",
   "execution_count": 162,
   "metadata": {},
   "outputs": [],
   "source": [
    "nrows = len(df)\n",
    "lemmatized_text_list = []\n",
    "\n",
    "for row in range(0, nrows):\n",
    "    \n",
    "    # Create an empty list containing lemmatized words\n",
    "    lemmatized_list = []\n",
    "    \n",
    "    # Save the text and its words into an object\n",
    "    text = df.loc[row]['Content_Parsed_4']\n",
    "    text_words = text.split(\" \")\n",
    "\n",
    "    # Iterate through every word to lemmatize\n",
    "    for word in text_words:\n",
    "        lemmatized_list.append(wordnet_lemmatizer.lemmatize(word, pos=\"v\"))\n",
    "        \n",
    "    # Join the list\n",
    "    lemmatized_text = \" \".join(lemmatized_list)\n",
    "    \n",
    "    # Append to the list containing the texts\n",
    "    lemmatized_text_list.append(lemmatized_text)"
   ]
  },
  {
   "cell_type": "code",
   "execution_count": 163,
   "metadata": {},
   "outputs": [],
   "source": [
    "df['Content_Parsed_5'] = lemmatized_text_list"
   ]
  },
  {
   "cell_type": "markdown",
   "metadata": {},
   "source": [
    "Although lemmatization doesn't work perfectly in all cases (as can be seen in the example below), it can be useful."
   ]
  },
  {
   "cell_type": "markdown",
   "metadata": {},
   "source": [
    "### 1.6. Stop words"
   ]
  },
  {
   "cell_type": "code",
   "execution_count": 164,
   "metadata": {},
   "outputs": [
    {
     "name": "stderr",
     "output_type": "stream",
     "text": [
      "[nltk_data] Downloading package stopwords to\n",
      "[nltk_data]     C:\\Users\\mohan\\AppData\\Roaming\\nltk_data...\n",
      "[nltk_data]   Package stopwords is already up-to-date!\n"
     ]
    },
    {
     "data": {
      "text/plain": [
       "True"
      ]
     },
     "execution_count": 164,
     "metadata": {},
     "output_type": "execute_result"
    }
   ],
   "source": [
    "# Downloading the stop words list\n",
    "nltk.download('stopwords')"
   ]
  },
  {
   "cell_type": "code",
   "execution_count": 165,
   "metadata": {},
   "outputs": [],
   "source": [
    "# Loading the stop words in english\n",
    "stop_words = list(stopwords.words('english'))"
   ]
  },
  {
   "cell_type": "code",
   "execution_count": 166,
   "metadata": {},
   "outputs": [
    {
     "data": {
      "text/plain": [
       "['i', 'me', 'my', 'myself', 'we', 'our', 'ours', 'ourselves', 'you', \"you're\"]"
      ]
     },
     "execution_count": 166,
     "metadata": {},
     "output_type": "execute_result"
    }
   ],
   "source": [
    "stop_words[0:10]"
   ]
  },
  {
   "cell_type": "markdown",
   "metadata": {},
   "source": [
    "To remove the stop words, we'll handle a regular expression only detecting whole words, as seen in the following example:"
   ]
  },
  {
   "cell_type": "code",
   "execution_count": 167,
   "metadata": {
    "scrolled": true
   },
   "outputs": [
    {
     "data": {
      "text/plain": [
       "'StopWord eating a meal'"
      ]
     },
     "execution_count": 167,
     "metadata": {},
     "output_type": "execute_result"
    }
   ],
   "source": [
    "example = \"me eating a meal\"\n",
    "word = \"me\"\n",
    "\n",
    "# The regular expression is:\n",
    "regex = r\"\\b\" + word + r\"\\b\"  # we need to build it like that to work properly\n",
    "\n",
    "re.sub(regex, \"StopWord\", example)"
   ]
  },
  {
   "cell_type": "markdown",
   "metadata": {},
   "source": [
    "We can now loop through all the stop words:"
   ]
  },
  {
   "cell_type": "code",
   "execution_count": 168,
   "metadata": {},
   "outputs": [
    {
     "name": "stderr",
     "output_type": "stream",
     "text": [
      "<ipython-input-168-3b7196a1b53b>:6: FutureWarning: The default value of regex will change from True to False in a future version.\n",
      "  df['Content_Parsed_6'] = df['Content_Parsed_6'].str.replace(regex_stopword, '')\n"
     ]
    }
   ],
   "source": [
    "df['Content_Parsed_6'] = df['Content_Parsed_5']\n",
    "\n",
    "for stop_word in stop_words:\n",
    "\n",
    "    regex_stopword = r\"\\b\" + stop_word + r\"\\b\"\n",
    "    df['Content_Parsed_6'] = df['Content_Parsed_6'].str.replace(regex_stopword, '')"
   ]
  },
  {
   "cell_type": "markdown",
   "metadata": {},
   "source": [
    "We have some dobule/triple spaces between words because of the replacements. However, it's not a problem because we'll tokenize by the spaces later."
   ]
  },
  {
   "cell_type": "markdown",
   "metadata": {},
   "source": [
    "As an example, we'll show an original news article and its modifications throughout the process:"
   ]
  },
  {
   "cell_type": "code",
   "execution_count": 169,
   "metadata": {},
   "outputs": [
    {
     "data": {
      "text/plain": [
       "\"b'NHTSA In Action NHTSA is dedicated to advancing the lifesaving potential of new vehicle technologies\\\\n\\\\nNHTSA demonstrates its dedication to saving lives on our nation\\\\xe2\\\\x80\\\\x99s roads and highways through its proactive and inclusive approach to the safe development, testing, and deployment of new and advanced vehicle technologies that have enormous potential for improving safety and mobility for all Americans, NHTSA demonstrates its dedication to saving lives on our nation\\\\xe2\\\\x80\\\\x99s roads and highways.\\\\n\\\\nIn September 2016, NHTSA and the U.S. Department of Transportation issued the Federal Automated Vehicles Policy which set forth a proactive approach to providing safety assurance and facilitating innovation. Building on that policy and incorporating feedback received through public comments, stakeholder meetings, and Congressional hearings, in September 2017, the agency issued, Automated Driving Systems: A Vision for Safety 2.0. The updated guidance, 2.0, offers a flexible, nonregulatory approach to automated vehicle technology safety, by supporting the automotive industry and other key stakeholders as they consider and design best practices for the safe testing and deployment of ADS levels 3 through 5. It also provides technical assistance to states and best practices for policymakers regarding ADS.\\\\n\\\\nIn October 2018, U.S. DOT released Preparing for the Future of Transportation: Automated Vehicles 3.0, which builds upon \\\\xe2\\\\x80\\\\x94 but does not replace \\\\xe2\\\\x80\\\\x94 the voluntary guidance provided in 2.0. AV 3.0 expands the scope to all surface on-road transportation systems, and was developed through input from a diverse set of stakeholder engagements throughout the nation. AV 3.0 is structured around three key areas:\\\\n\\\\nAdvancing multi-modal safety, Reducing policy uncertainty, and Outlining a process for working with U.S. DOT.\\\\n\\\\nEnsuring American Leadership in Automated Vehicle Technologies: Automated Vehicles 4.0 was released in January 2020. AV 4.0 builds upon AV 3.0 by expanding the scope to 38 relevant United States Government (USG) components that have direct or tangential equities in safe development and integration of AV technologies. AV 4.0 is structured around three key areas:\\\\n\\\\nUSG AV principles, Administration efforts supporting AV technology growth and leadership, and USG activities and opportunities for collaboration.\\\\n\\\\nAs automated technologies advance, so will the department\\\\xe2\\\\x80\\\\x99s guidance. The guidance is intended to be flexible and to evolve as technology does, but with safety always as the top priority.'\""
      ]
     },
     "execution_count": 169,
     "metadata": {},
     "output_type": "execute_result"
    }
   ],
   "source": [
    "df.loc[5]['Content']"
   ]
  },
  {
   "cell_type": "markdown",
   "metadata": {},
   "source": [
    "1. Special character cleaning"
   ]
  },
  {
   "cell_type": "code",
   "execution_count": 170,
   "metadata": {},
   "outputs": [
    {
     "data": {
      "text/plain": [
       "\"b'NHTSA In Action NHTSA is dedicated to advancing the lifesaving potential of new vehicle technologies\\\\n\\\\nNHTSA demonstrates its dedication to saving lives on our nation\\\\xe2\\\\x80\\\\x99s roads and highways through its proactive and inclusive approach to the safe development, testing, and deployment of new and advanced vehicle technologies that have enormous potential for improving safety and mobility for all Americans, NHTSA demonstrates its dedication to saving lives on our nation\\\\xe2\\\\x80\\\\x99s roads and highways.\\\\n\\\\nIn September 2016, NHTSA and the U.S. Department of Transportation issued the Federal Automated Vehicles Policy which set forth a proactive approach to providing safety assurance and facilitating innovation. Building on that policy and incorporating feedback received through public comments, stakeholder meetings, and Congressional hearings, in September 2017, the agency issued, Automated Driving Systems: A Vision for Safety 2.0. The updated guidance, 2.0, offers a flexible, nonregulatory approach to automated vehicle technology safety, by supporting the automotive industry and other key stakeholders as they consider and design best practices for the safe testing and deployment of ADS levels 3 through 5. It also provides technical assistance to states and best practices for policymakers regarding ADS.\\\\n\\\\nIn October 2018, U.S. DOT released Preparing for the Future of Transportation: Automated Vehicles 3.0, which builds upon \\\\xe2\\\\x80\\\\x94 but does not replace \\\\xe2\\\\x80\\\\x94 the voluntary guidance provided in 2.0. AV 3.0 expands the scope to all surface on-road transportation systems, and was developed through input from a diverse set of stakeholder engagements throughout the nation. AV 3.0 is structured around three key areas:\\\\n\\\\nAdvancing multi-modal safety, Reducing policy uncertainty, and Outlining a process for working with U.S. DOT.\\\\n\\\\nEnsuring American Leadership in Automated Vehicle Technologies: Automated Vehicles 4.0 was released in January 2020. AV 4.0 builds upon AV 3.0 by expanding the scope to 38 relevant United States Government (USG) components that have direct or tangential equities in safe development and integration of AV technologies. AV 4.0 is structured around three key areas:\\\\n\\\\nUSG AV principles, Administration efforts supporting AV technology growth and leadership, and USG activities and opportunities for collaboration.\\\\n\\\\nAs automated technologies advance, so will the department\\\\xe2\\\\x80\\\\x99s guidance. The guidance is intended to be flexible and to evolve as technology does, but with safety always as the top priority.'\""
      ]
     },
     "execution_count": 170,
     "metadata": {},
     "output_type": "execute_result"
    }
   ],
   "source": [
    "df.loc[5]['Content_Parsed_1']"
   ]
  },
  {
   "cell_type": "markdown",
   "metadata": {},
   "source": [
    "2. Upcase/downcase"
   ]
  },
  {
   "cell_type": "code",
   "execution_count": 171,
   "metadata": {},
   "outputs": [
    {
     "data": {
      "text/plain": [
       "\"b'nhtsa in action nhtsa is dedicated to advancing the lifesaving potential of new vehicle technologies\\\\n\\\\nnhtsa demonstrates its dedication to saving lives on our nation\\\\xe2\\\\x80\\\\x99s roads and highways through its proactive and inclusive approach to the safe development, testing, and deployment of new and advanced vehicle technologies that have enormous potential for improving safety and mobility for all americans, nhtsa demonstrates its dedication to saving lives on our nation\\\\xe2\\\\x80\\\\x99s roads and highways.\\\\n\\\\nin september 2016, nhtsa and the u.s. department of transportation issued the federal automated vehicles policy which set forth a proactive approach to providing safety assurance and facilitating innovation. building on that policy and incorporating feedback received through public comments, stakeholder meetings, and congressional hearings, in september 2017, the agency issued, automated driving systems: a vision for safety 2.0. the updated guidance, 2.0, offers a flexible, nonregulatory approach to automated vehicle technology safety, by supporting the automotive industry and other key stakeholders as they consider and design best practices for the safe testing and deployment of ads levels 3 through 5. it also provides technical assistance to states and best practices for policymakers regarding ads.\\\\n\\\\nin october 2018, u.s. dot released preparing for the future of transportation: automated vehicles 3.0, which builds upon \\\\xe2\\\\x80\\\\x94 but does not replace \\\\xe2\\\\x80\\\\x94 the voluntary guidance provided in 2.0. av 3.0 expands the scope to all surface on-road transportation systems, and was developed through input from a diverse set of stakeholder engagements throughout the nation. av 3.0 is structured around three key areas:\\\\n\\\\nadvancing multi-modal safety, reducing policy uncertainty, and outlining a process for working with u.s. dot.\\\\n\\\\nensuring american leadership in automated vehicle technologies: automated vehicles 4.0 was released in january 2020. av 4.0 builds upon av 3.0 by expanding the scope to 38 relevant united states government (usg) components that have direct or tangential equities in safe development and integration of av technologies. av 4.0 is structured around three key areas:\\\\n\\\\nusg av principles, administration efforts supporting av technology growth and leadership, and usg activities and opportunities for collaboration.\\\\n\\\\nas automated technologies advance, so will the department\\\\xe2\\\\x80\\\\x99s guidance. the guidance is intended to be flexible and to evolve as technology does, but with safety always as the top priority.'\""
      ]
     },
     "execution_count": 171,
     "metadata": {},
     "output_type": "execute_result"
    }
   ],
   "source": [
    "df.loc[5]['Content_Parsed_2']"
   ]
  },
  {
   "cell_type": "markdown",
   "metadata": {},
   "source": [
    "3. Punctuation signs"
   ]
  },
  {
   "cell_type": "code",
   "execution_count": 172,
   "metadata": {},
   "outputs": [
    {
     "data": {
      "text/plain": [
       "\"b'nhtsa in action nhtsa is dedicated to advancing the lifesaving potential of new vehicle technologies\\\\n\\\\nnhtsa demonstrates its dedication to saving lives on our nation\\\\xe2\\\\x80\\\\x99s roads and highways through its proactive and inclusive approach to the safe development testing and deployment of new and advanced vehicle technologies that have enormous potential for improving safety and mobility for all americans nhtsa demonstrates its dedication to saving lives on our nation\\\\xe2\\\\x80\\\\x99s roads and highways\\\\n\\\\nin september 2016 nhtsa and the us department of transportation issued the federal automated vehicles policy which set forth a proactive approach to providing safety assurance and facilitating innovation building on that policy and incorporating feedback received through public comments stakeholder meetings and congressional hearings in september 2017 the agency issued automated driving systems a vision for safety 20 the updated guidance 20 offers a flexible nonregulatory approach to automated vehicle technology safety by supporting the automotive industry and other key stakeholders as they consider and design best practices for the safe testing and deployment of ads levels 3 through 5 it also provides technical assistance to states and best practices for policymakers regarding ads\\\\n\\\\nin october 2018 us dot released preparing for the future of transportation automated vehicles 30 which builds upon \\\\xe2\\\\x80\\\\x94 but does not replace \\\\xe2\\\\x80\\\\x94 the voluntary guidance provided in 20 av 30 expands the scope to all surface on-road transportation systems and was developed through input from a diverse set of stakeholder engagements throughout the nation av 30 is structured around three key areas\\\\n\\\\nadvancing multi-modal safety reducing policy uncertainty and outlining a process for working with us dot\\\\n\\\\nensuring american leadership in automated vehicle technologies automated vehicles 40 was released in january 2020 av 40 builds upon av 30 by expanding the scope to 38 relevant united states government (usg) components that have direct or tangential equities in safe development and integration of av technologies av 40 is structured around three key areas\\\\n\\\\nusg av principles administration efforts supporting av technology growth and leadership and usg activities and opportunities for collaboration\\\\n\\\\nas automated technologies advance so will the department\\\\xe2\\\\x80\\\\x99s guidance the guidance is intended to be flexible and to evolve as technology does but with safety always as the top priority'\""
      ]
     },
     "execution_count": 172,
     "metadata": {},
     "output_type": "execute_result"
    }
   ],
   "source": [
    "df.loc[5]['Content_Parsed_3']"
   ]
  },
  {
   "cell_type": "markdown",
   "metadata": {},
   "source": [
    "4. Possessive pronouns"
   ]
  },
  {
   "cell_type": "code",
   "execution_count": 173,
   "metadata": {},
   "outputs": [
    {
     "data": {
      "text/plain": [
       "\"b'nhtsa in action nhtsa is dedicated to advancing the lifesaving potential of new vehicle technologies\\\\n\\\\nnhtsa demonstrates its dedication to saving lives on our nation\\\\xe2\\\\x80\\\\x99s roads and highways through its proactive and inclusive approach to the safe development testing and deployment of new and advanced vehicle technologies that have enormous potential for improving safety and mobility for all americans nhtsa demonstrates its dedication to saving lives on our nation\\\\xe2\\\\x80\\\\x99s roads and highways\\\\n\\\\nin september 2016 nhtsa and the us department of transportation issued the federal automated vehicles policy which set forth a proactive approach to providing safety assurance and facilitating innovation building on that policy and incorporating feedback received through public comments stakeholder meetings and congressional hearings in september 2017 the agency issued automated driving systems a vision for safety 20 the updated guidance 20 offers a flexible nonregulatory approach to automated vehicle technology safety by supporting the automotive industry and other key stakeholders as they consider and design best practices for the safe testing and deployment of ads levels 3 through 5 it also provides technical assistance to states and best practices for policymakers regarding ads\\\\n\\\\nin october 2018 us dot released preparing for the future of transportation automated vehicles 30 which builds upon \\\\xe2\\\\x80\\\\x94 but does not replace \\\\xe2\\\\x80\\\\x94 the voluntary guidance provided in 20 av 30 expands the scope to all surface on-road transportation systems and was developed through input from a diverse set of stakeholder engagements throughout the nation av 30 is structured around three key areas\\\\n\\\\nadvancing multi-modal safety reducing policy uncertainty and outlining a process for working with us dot\\\\n\\\\nensuring american leadership in automated vehicle technologies automated vehicles 40 was released in january 2020 av 40 builds upon av 30 by expanding the scope to 38 relevant united states government (usg) components that have direct or tangential equities in safe development and integration of av technologies av 40 is structured around three key areas\\\\n\\\\nusg av principles administration efforts supporting av technology growth and leadership and usg activities and opportunities for collaboration\\\\n\\\\nas automated technologies advance so will the department\\\\xe2\\\\x80\\\\x99s guidance the guidance is intended to be flexible and to evolve as technology does but with safety always as the top priority'\""
      ]
     },
     "execution_count": 173,
     "metadata": {},
     "output_type": "execute_result"
    }
   ],
   "source": [
    "df.loc[5]['Content_Parsed_4']"
   ]
  },
  {
   "cell_type": "markdown",
   "metadata": {},
   "source": [
    "5. Stemming and Lemmatization"
   ]
  },
  {
   "cell_type": "code",
   "execution_count": 174,
   "metadata": {},
   "outputs": [
    {
     "data": {
      "text/plain": [
       "\"b'nhtsa in action nhtsa be dedicate to advance the lifesaving potential of new vehicle technologies\\\\n\\\\nnhtsa demonstrate its dedication to save live on our nation\\\\xe2\\\\x80\\\\x99s roads and highways through its proactive and inclusive approach to the safe development test and deployment of new and advance vehicle technologies that have enormous potential for improve safety and mobility for all americans nhtsa demonstrate its dedication to save live on our nation\\\\xe2\\\\x80\\\\x99s roads and highways\\\\n\\\\nin september 2016 nhtsa and the us department of transportation issue the federal automate vehicles policy which set forth a proactive approach to provide safety assurance and facilitate innovation build on that policy and incorporate feedback receive through public comment stakeholder meet and congressional hear in september 2017 the agency issue automate drive systems a vision for safety 20 the update guidance 20 offer a flexible nonregulatory approach to automate vehicle technology safety by support the automotive industry and other key stakeholders as they consider and design best practice for the safe test and deployment of ads level 3 through 5 it also provide technical assistance to state and best practice for policymakers regard ads\\\\n\\\\nin october 2018 us dot release prepare for the future of transportation automate vehicles 30 which build upon \\\\xe2\\\\x80\\\\x94 but do not replace \\\\xe2\\\\x80\\\\x94 the voluntary guidance provide in 20 av 30 expand the scope to all surface on-road transportation systems and be develop through input from a diverse set of stakeholder engagements throughout the nation av 30 be structure around three key areas\\\\n\\\\nadvancing multi-modal safety reduce policy uncertainty and outline a process for work with us dot\\\\n\\\\nensuring american leadership in automate vehicle technologies automate vehicles 40 be release in january 2020 av 40 build upon av 30 by expand the scope to 38 relevant unite state government (usg) components that have direct or tangential equities in safe development and integration of av technologies av 40 be structure around three key areas\\\\n\\\\nusg av principles administration efforts support av technology growth and leadership and usg activities and opportunities for collaboration\\\\n\\\\nas automate technologies advance so will the department\\\\xe2\\\\x80\\\\x99s guidance the guidance be intend to be flexible and to evolve as technology do but with safety always as the top priority'\""
      ]
     },
     "execution_count": 174,
     "metadata": {},
     "output_type": "execute_result"
    }
   ],
   "source": [
    "df.loc[5]['Content_Parsed_5']"
   ]
  },
  {
   "cell_type": "markdown",
   "metadata": {},
   "source": [
    "6. Stop words"
   ]
  },
  {
   "cell_type": "code",
   "execution_count": 175,
   "metadata": {},
   "outputs": [
    {
     "data": {
      "text/plain": [
       "\"b'nhtsa  action nhtsa  dedicate  advance  lifesaving potential  new vehicle technologies\\\\n\\\\nnhtsa demonstrate  dedication  save live   nation\\\\xe2\\\\x80\\\\x99s roads  highways   proactive  inclusive approach   safe development test  deployment  new  advance vehicle technologies   enormous potential  improve safety  mobility   americans nhtsa demonstrate  dedication  save live   nation\\\\xe2\\\\x80\\\\x99s roads  highways\\\\n\\\\nin september 2016 nhtsa   us department  transportation issue  federal automate vehicles policy  set forth  proactive approach  provide safety assurance  facilitate innovation build   policy  incorporate feedback receive  public comment stakeholder meet  congressional hear  september 2017  agency issue automate drive systems  vision  safety 20  update guidance 20 offer  flexible nonregulatory approach  automate vehicle technology safety  support  automotive industry   key stakeholders   consider  design best practice   safe test  deployment  ads level 3  5  also provide technical assistance  state  best practice  policymakers regard ads\\\\n\\\\nin october 2018 us dot release prepare   future  transportation automate vehicles 30  build upon \\\\xe2\\\\x80\\\\x94    replace \\\\xe2\\\\x80\\\\x94  voluntary guidance provide  20 av 30 expand  scope   surface -road transportation systems   develop  input   diverse set  stakeholder engagements throughout  nation av 30  structure around three key areas\\\\n\\\\nadvancing multi-modal safety reduce policy uncertainty  outline  process  work  us dot\\\\n\\\\nensuring american leadership  automate vehicle technologies automate vehicles 40  release  january 2020 av 40 build upon av 30  expand  scope  38 relevant unite state government (usg) components   direct  tangential equities  safe development  integration  av technologies av 40  structure around three key areas\\\\n\\\\nusg av principles administration efforts support av technology growth  leadership  usg activities  opportunities  collaboration\\\\n\\\\nas automate technologies advance    department\\\\xe2\\\\x80\\\\x99s guidance  guidance  intend   flexible   evolve  technology    safety always   top priority'\""
      ]
     },
     "execution_count": 175,
     "metadata": {},
     "output_type": "execute_result"
    }
   ],
   "source": [
    "df.loc[5]['Content_Parsed_6']"
   ]
  },
  {
   "cell_type": "markdown",
   "metadata": {},
   "source": [
    "Finally, we can delete the intermediate columns:"
   ]
  },
  {
   "cell_type": "code",
   "execution_count": 176,
   "metadata": {},
   "outputs": [
    {
     "data": {
      "text/html": [
       "<div>\n",
       "<style scoped>\n",
       "    .dataframe tbody tr th:only-of-type {\n",
       "        vertical-align: middle;\n",
       "    }\n",
       "\n",
       "    .dataframe tbody tr th {\n",
       "        vertical-align: top;\n",
       "    }\n",
       "\n",
       "    .dataframe thead th {\n",
       "        text-align: right;\n",
       "    }\n",
       "</style>\n",
       "<table border=\"1\" class=\"dataframe\">\n",
       "  <thead>\n",
       "    <tr style=\"text-align: right;\">\n",
       "      <th></th>\n",
       "      <th>File_Name</th>\n",
       "      <th>Content</th>\n",
       "      <th>Category</th>\n",
       "      <th>Complete_Filename</th>\n",
       "      <th>id</th>\n",
       "      <th>News_length</th>\n",
       "      <th>Content_Parsed_1</th>\n",
       "      <th>Content_Parsed_2</th>\n",
       "      <th>Content_Parsed_3</th>\n",
       "      <th>Content_Parsed_4</th>\n",
       "      <th>Content_Parsed_5</th>\n",
       "      <th>Content_Parsed_6</th>\n",
       "    </tr>\n",
       "  </thead>\n",
       "  <tbody>\n",
       "    <tr>\n",
       "      <th>0</th>\n",
       "      <td>1.txt</td>\n",
       "      <td>b'Road vehicle that is capable of moving safel...</td>\n",
       "      <td>Autonomous Cars</td>\n",
       "      <td>1.txt-Autonomous Cars</td>\n",
       "      <td>1</td>\n",
       "      <td>100847</td>\n",
       "      <td>b'Road vehicle that is capable of moving safel...</td>\n",
       "      <td>b'road vehicle that is capable of moving safel...</td>\n",
       "      <td>b'road vehicle that is capable of moving safel...</td>\n",
       "      <td>b'road vehicle that is capable of moving safel...</td>\n",
       "      <td>b'road vehicle that be capable of move safely ...</td>\n",
       "      <td>b'road vehicle   capable  move safely  little ...</td>\n",
       "    </tr>\n",
       "  </tbody>\n",
       "</table>\n",
       "</div>"
      ],
      "text/plain": [
       "  File_Name                                            Content  \\\n",
       "0     1.txt  b'Road vehicle that is capable of moving safel...   \n",
       "\n",
       "          Category      Complete_Filename  id  News_length  \\\n",
       "0  Autonomous Cars  1.txt-Autonomous Cars   1       100847   \n",
       "\n",
       "                                    Content_Parsed_1  \\\n",
       "0  b'Road vehicle that is capable of moving safel...   \n",
       "\n",
       "                                    Content_Parsed_2  \\\n",
       "0  b'road vehicle that is capable of moving safel...   \n",
       "\n",
       "                                    Content_Parsed_3  \\\n",
       "0  b'road vehicle that is capable of moving safel...   \n",
       "\n",
       "                                    Content_Parsed_4  \\\n",
       "0  b'road vehicle that is capable of moving safel...   \n",
       "\n",
       "                                    Content_Parsed_5  \\\n",
       "0  b'road vehicle that be capable of move safely ...   \n",
       "\n",
       "                                    Content_Parsed_6  \n",
       "0  b'road vehicle   capable  move safely  little ...  "
      ]
     },
     "execution_count": 176,
     "metadata": {},
     "output_type": "execute_result"
    }
   ],
   "source": [
    "df.head(1)"
   ]
  },
  {
   "cell_type": "code",
   "execution_count": 177,
   "metadata": {},
   "outputs": [],
   "source": [
    "list_columns = [\"File_Name\", \"Category\", \"Complete_Filename\", \"Content\", \"Content_Parsed_6\"]\n",
    "df = df[list_columns]\n",
    "\n",
    "df = df.rename(columns={'Content_Parsed_6': 'Content_Parsed'})"
   ]
  },
  {
   "cell_type": "code",
   "execution_count": 178,
   "metadata": {
    "scrolled": true
   },
   "outputs": [
    {
     "data": {
      "text/html": [
       "<div>\n",
       "<style scoped>\n",
       "    .dataframe tbody tr th:only-of-type {\n",
       "        vertical-align: middle;\n",
       "    }\n",
       "\n",
       "    .dataframe tbody tr th {\n",
       "        vertical-align: top;\n",
       "    }\n",
       "\n",
       "    .dataframe thead th {\n",
       "        text-align: right;\n",
       "    }\n",
       "</style>\n",
       "<table border=\"1\" class=\"dataframe\">\n",
       "  <thead>\n",
       "    <tr style=\"text-align: right;\">\n",
       "      <th></th>\n",
       "      <th>File_Name</th>\n",
       "      <th>Category</th>\n",
       "      <th>Complete_Filename</th>\n",
       "      <th>Content</th>\n",
       "      <th>Content_Parsed</th>\n",
       "    </tr>\n",
       "  </thead>\n",
       "  <tbody>\n",
       "    <tr>\n",
       "      <th>0</th>\n",
       "      <td>1.txt</td>\n",
       "      <td>Autonomous Cars</td>\n",
       "      <td>1.txt-Autonomous Cars</td>\n",
       "      <td>b'Road vehicle that is capable of moving safel...</td>\n",
       "      <td>b'road vehicle   capable  move safely  little ...</td>\n",
       "    </tr>\n",
       "    <tr>\n",
       "      <th>1</th>\n",
       "      <td>100.txt</td>\n",
       "      <td>Autonomous Cars</td>\n",
       "      <td>100.txt-Autonomous Cars</td>\n",
       "      <td>b\"The U.S. Department of Transportation (USDOT...</td>\n",
       "      <td>bthe us department  transportation (usdot)  co...</td>\n",
       "    </tr>\n",
       "    <tr>\n",
       "      <th>2</th>\n",
       "      <td>101.txt</td>\n",
       "      <td>Autonomous Cars</td>\n",
       "      <td>101.txt-Autonomous Cars</td>\n",
       "      <td>b'National Security Implications of Leadership...</td>\n",
       "      <td>b'national security implications  leadership  ...</td>\n",
       "    </tr>\n",
       "    <tr>\n",
       "      <th>3</th>\n",
       "      <td>102.txt</td>\n",
       "      <td>Autonomous Cars</td>\n",
       "      <td>102.txt-Autonomous Cars</td>\n",
       "      <td>b'Road vehicle that is capable of moving safel...</td>\n",
       "      <td>b'road vehicle   capable  move safely  little ...</td>\n",
       "    </tr>\n",
       "    <tr>\n",
       "      <th>4</th>\n",
       "      <td>104.txt</td>\n",
       "      <td>Autonomous Cars</td>\n",
       "      <td>104.txt-Autonomous Cars</td>\n",
       "      <td>b'The dream of the self-driving car \\xe2\\x80\\x...</td>\n",
       "      <td>b' dream   self-driving car \\xe2\\x80\\x94  get ...</td>\n",
       "    </tr>\n",
       "  </tbody>\n",
       "</table>\n",
       "</div>"
      ],
      "text/plain": [
       "  File_Name         Category        Complete_Filename  \\\n",
       "0     1.txt  Autonomous Cars    1.txt-Autonomous Cars   \n",
       "1   100.txt  Autonomous Cars  100.txt-Autonomous Cars   \n",
       "2   101.txt  Autonomous Cars  101.txt-Autonomous Cars   \n",
       "3   102.txt  Autonomous Cars  102.txt-Autonomous Cars   \n",
       "4   104.txt  Autonomous Cars  104.txt-Autonomous Cars   \n",
       "\n",
       "                                             Content  \\\n",
       "0  b'Road vehicle that is capable of moving safel...   \n",
       "1  b\"The U.S. Department of Transportation (USDOT...   \n",
       "2  b'National Security Implications of Leadership...   \n",
       "3  b'Road vehicle that is capable of moving safel...   \n",
       "4  b'The dream of the self-driving car \\xe2\\x80\\x...   \n",
       "\n",
       "                                      Content_Parsed  \n",
       "0  b'road vehicle   capable  move safely  little ...  \n",
       "1  bthe us department  transportation (usdot)  co...  \n",
       "2  b'national security implications  leadership  ...  \n",
       "3  b'road vehicle   capable  move safely  little ...  \n",
       "4  b' dream   self-driving car \\xe2\\x80\\x94  get ...  "
      ]
     },
     "execution_count": 178,
     "metadata": {},
     "output_type": "execute_result"
    }
   ],
   "source": [
    "df.head()"
   ]
  },
  {
   "cell_type": "markdown",
   "metadata": {},
   "source": [
    "**IMPORTANT:**\n",
    "\n",
    "We need to remember that our model will gather the latest news articles from different newspapers every time we want. For that reason, we not only need to take into account the peculiarities of the training set articles, but also possible ones that are present in the gathered news articles.\n",
    "\n",
    "For this reason, possible peculiarities have been studied in the *05. News Scraping* folder."
   ]
  },
  {
   "cell_type": "markdown",
   "metadata": {},
   "source": [
    "## 2. Label coding"
   ]
  },
  {
   "cell_type": "markdown",
   "metadata": {},
   "source": [
    "We'll create a dictionary with the label codification:"
   ]
  },
  {
   "cell_type": "code",
   "execution_count": 179,
   "metadata": {},
   "outputs": [],
   "source": [
    "category_codes = {\n",
    "    'Autonomous Cars': 0,\n",
    "    'Other': 1,\n",
    "}"
   ]
  },
  {
   "cell_type": "code",
   "execution_count": 180,
   "metadata": {},
   "outputs": [],
   "source": [
    "# Category mapping\n",
    "df['Category_Code'] = df['Category']\n",
    "df = df.replace({'Category_Code':category_codes})"
   ]
  },
  {
   "cell_type": "code",
   "execution_count": 181,
   "metadata": {
    "scrolled": true
   },
   "outputs": [
    {
     "data": {
      "text/html": [
       "<div>\n",
       "<style scoped>\n",
       "    .dataframe tbody tr th:only-of-type {\n",
       "        vertical-align: middle;\n",
       "    }\n",
       "\n",
       "    .dataframe tbody tr th {\n",
       "        vertical-align: top;\n",
       "    }\n",
       "\n",
       "    .dataframe thead th {\n",
       "        text-align: right;\n",
       "    }\n",
       "</style>\n",
       "<table border=\"1\" class=\"dataframe\">\n",
       "  <thead>\n",
       "    <tr style=\"text-align: right;\">\n",
       "      <th></th>\n",
       "      <th>File_Name</th>\n",
       "      <th>Category</th>\n",
       "      <th>Complete_Filename</th>\n",
       "      <th>Content</th>\n",
       "      <th>Content_Parsed</th>\n",
       "      <th>Category_Code</th>\n",
       "    </tr>\n",
       "  </thead>\n",
       "  <tbody>\n",
       "    <tr>\n",
       "      <th>0</th>\n",
       "      <td>1.txt</td>\n",
       "      <td>Autonomous Cars</td>\n",
       "      <td>1.txt-Autonomous Cars</td>\n",
       "      <td>b'Road vehicle that is capable of moving safel...</td>\n",
       "      <td>b'road vehicle   capable  move safely  little ...</td>\n",
       "      <td>0</td>\n",
       "    </tr>\n",
       "    <tr>\n",
       "      <th>1</th>\n",
       "      <td>100.txt</td>\n",
       "      <td>Autonomous Cars</td>\n",
       "      <td>100.txt-Autonomous Cars</td>\n",
       "      <td>b\"The U.S. Department of Transportation (USDOT...</td>\n",
       "      <td>bthe us department  transportation (usdot)  co...</td>\n",
       "      <td>0</td>\n",
       "    </tr>\n",
       "    <tr>\n",
       "      <th>2</th>\n",
       "      <td>101.txt</td>\n",
       "      <td>Autonomous Cars</td>\n",
       "      <td>101.txt-Autonomous Cars</td>\n",
       "      <td>b'National Security Implications of Leadership...</td>\n",
       "      <td>b'national security implications  leadership  ...</td>\n",
       "      <td>0</td>\n",
       "    </tr>\n",
       "    <tr>\n",
       "      <th>3</th>\n",
       "      <td>102.txt</td>\n",
       "      <td>Autonomous Cars</td>\n",
       "      <td>102.txt-Autonomous Cars</td>\n",
       "      <td>b'Road vehicle that is capable of moving safel...</td>\n",
       "      <td>b'road vehicle   capable  move safely  little ...</td>\n",
       "      <td>0</td>\n",
       "    </tr>\n",
       "    <tr>\n",
       "      <th>4</th>\n",
       "      <td>104.txt</td>\n",
       "      <td>Autonomous Cars</td>\n",
       "      <td>104.txt-Autonomous Cars</td>\n",
       "      <td>b'The dream of the self-driving car \\xe2\\x80\\x...</td>\n",
       "      <td>b' dream   self-driving car \\xe2\\x80\\x94  get ...</td>\n",
       "      <td>0</td>\n",
       "    </tr>\n",
       "  </tbody>\n",
       "</table>\n",
       "</div>"
      ],
      "text/plain": [
       "  File_Name         Category        Complete_Filename  \\\n",
       "0     1.txt  Autonomous Cars    1.txt-Autonomous Cars   \n",
       "1   100.txt  Autonomous Cars  100.txt-Autonomous Cars   \n",
       "2   101.txt  Autonomous Cars  101.txt-Autonomous Cars   \n",
       "3   102.txt  Autonomous Cars  102.txt-Autonomous Cars   \n",
       "4   104.txt  Autonomous Cars  104.txt-Autonomous Cars   \n",
       "\n",
       "                                             Content  \\\n",
       "0  b'Road vehicle that is capable of moving safel...   \n",
       "1  b\"The U.S. Department of Transportation (USDOT...   \n",
       "2  b'National Security Implications of Leadership...   \n",
       "3  b'Road vehicle that is capable of moving safel...   \n",
       "4  b'The dream of the self-driving car \\xe2\\x80\\x...   \n",
       "\n",
       "                                      Content_Parsed  Category_Code  \n",
       "0  b'road vehicle   capable  move safely  little ...              0  \n",
       "1  bthe us department  transportation (usdot)  co...              0  \n",
       "2  b'national security implications  leadership  ...              0  \n",
       "3  b'road vehicle   capable  move safely  little ...              0  \n",
       "4  b' dream   self-driving car \\xe2\\x80\\x94  get ...              0  "
      ]
     },
     "execution_count": 181,
     "metadata": {},
     "output_type": "execute_result"
    }
   ],
   "source": [
    "df.head()"
   ]
  },
  {
   "cell_type": "markdown",
   "metadata": {},
   "source": [
    "## 3. Train - test split"
   ]
  },
  {
   "cell_type": "markdown",
   "metadata": {},
   "source": [
    "We'll set apart a test set to prove the quality of our models. We'll do Cross Validation in the train set in order to tune the hyperparameters and then test performance on the unseen data of the test set."
   ]
  },
  {
   "cell_type": "code",
   "execution_count": 182,
   "metadata": {},
   "outputs": [],
   "source": [
    "X_train, X_test, y_train, y_test = train_test_split(df['Content_Parsed'], \n",
    "                                                    df['Category_Code'], \n",
    "                                                    test_size=0.15, \n",
    "                                                    random_state=8)"
   ]
  },
  {
   "cell_type": "markdown",
   "metadata": {},
   "source": [
    "## 4. Text representation"
   ]
  },
  {
   "cell_type": "markdown",
   "metadata": {},
   "source": [
    "We have various options:\n",
    "\n",
    "* Count Vectors as features\n",
    "* TF-IDF Vectors as features\n",
    "* Word Embeddings as features\n",
    "* Text / NLP based features\n",
    "* Topic Models as features"
   ]
  },
  {
   "cell_type": "markdown",
   "metadata": {},
   "source": [
    "We'll use **TF-IDF Vectors** as features."
   ]
  },
  {
   "cell_type": "markdown",
   "metadata": {},
   "source": [
    "We have to define the different parameters:\n",
    "\n",
    "* `ngram_range`: We want to consider both unigrams and bigrams.\n",
    "* `max_df`: When building the vocabulary ignore terms that have a document\n",
    "    frequency strictly higher than the given threshold\n",
    "* `min_df`: When building the vocabulary ignore terms that have a document\n",
    "    frequency strictly lower than the given threshold.\n",
    "* `max_features`: If not None, build a vocabulary that only consider the top\n",
    "    max_features ordered by term frequency across the corpus.\n",
    "\n",
    "See `TfidfVectorizer?` for further detail."
   ]
  },
  {
   "cell_type": "markdown",
   "metadata": {},
   "source": [
    "It needs to be mentioned that we are implicitly scaling our data when representing it as TF-IDF features with the argument `norm`."
   ]
  },
  {
   "cell_type": "code",
   "execution_count": 183,
   "metadata": {},
   "outputs": [],
   "source": [
    "# Parameter election\n",
    "ngram_range = (1,2)\n",
    "min_df = 10\n",
    "max_df = 1.\n",
    "max_features = 300"
   ]
  },
  {
   "cell_type": "markdown",
   "metadata": {},
   "source": [
    "We have chosen these values as a first approximation. Since the models that we develop later have a very good predictive power, we'll stick to these values. But it has to be mentioned that different combinations could be tried in order to improve even more the accuracy of the models."
   ]
  },
  {
   "cell_type": "code",
   "execution_count": 184,
   "metadata": {
    "scrolled": true
   },
   "outputs": [
    {
     "name": "stdout",
     "output_type": "stream",
     "text": [
      "(447, 300)\n",
      "(79, 300)\n"
     ]
    }
   ],
   "source": [
    "tfidf = TfidfVectorizer(encoding='utf-8',\n",
    "                        ngram_range=ngram_range,\n",
    "                        stop_words=None,\n",
    "                        lowercase=False,\n",
    "                        max_df=max_df,\n",
    "                        min_df=min_df,\n",
    "                        max_features=max_features,\n",
    "                        norm='l2',\n",
    "                        sublinear_tf=True)\n",
    "                        \n",
    "features_train = tfidf.fit_transform(X_train).toarray()\n",
    "labels_train = y_train\n",
    "print(features_train.shape)\n",
    "\n",
    "features_test = tfidf.transform(X_test).toarray()\n",
    "labels_test = y_test\n",
    "print(features_test.shape)"
   ]
  },
  {
   "cell_type": "markdown",
   "metadata": {},
   "source": [
    "Please note that we have fitted and then transformed the training set, but we have **only transformed** the **test set**."
   ]
  },
  {
   "cell_type": "markdown",
   "metadata": {},
   "source": [
    "We can use the Chi squared test in order to see what unigrams and bigrams are most correlated with each category:"
   ]
  },
  {
   "cell_type": "markdown",
   "metadata": {},
   "source": [
    "As we can see, the unigrams correspond well to their category. However, bigrams do not. If we get the bigrams in our features:"
   ]
  },
  {
   "cell_type": "code",
   "execution_count": 185,
   "metadata": {},
   "outputs": [
    {
     "data": {
      "text/plain": [
       "['xe2 x80',\n",
       " 'x80 x99re',\n",
       " 'x80 x93',\n",
       " 'unite state',\n",
       " 'x80 x99s',\n",
       " 'x80 x94',\n",
       " 'x80 x99t',\n",
       " 'x80 x9d',\n",
       " 'xc2 xb0c',\n",
       " 'cocoa bean',\n",
       " 'human driver',\n",
       " 'driving car',\n",
       " 'automate vehicles',\n",
       " 'cocoa butter',\n",
       " 'chocolate bar',\n",
       " 'milk chocolate',\n",
       " 'dark chocolate',\n",
       " 'driving cars',\n",
       " 'autonomous vehicle',\n",
       " 'autonomous vehicles',\n",
       " 'self driving']"
      ]
     },
     "execution_count": 185,
     "metadata": {},
     "output_type": "execute_result"
    }
   ],
   "source": [
    "bigrams"
   ]
  },
  {
   "cell_type": "markdown",
   "metadata": {},
   "source": [
    "We can see there are only six. This means the unigrams have more correlation with the category than the bigrams, and since we're restricting the number of features to the most representative 300, only a few bigrams are being considered."
   ]
  },
  {
   "cell_type": "markdown",
   "metadata": {},
   "source": [
    "Let's save the files we'll need in the next steps:"
   ]
  },
  {
   "cell_type": "code",
   "execution_count": 186,
   "metadata": {},
   "outputs": [],
   "source": [
    "# X_train\n",
    "with open('Pickles/X_train.pickle', 'wb') as output:\n",
    "    pickle.dump(X_train, output)\n",
    "    \n",
    "# X_test    \n",
    "with open('Pickles/X_test.pickle', 'wb') as output:\n",
    "    pickle.dump(X_test, output)\n",
    "    \n",
    "# y_train\n",
    "with open('Pickles/y_train.pickle', 'wb') as output:\n",
    "    pickle.dump(y_train, output)\n",
    "    \n",
    "# y_test\n",
    "with open('Pickles/y_test.pickle', 'wb') as output:\n",
    "    pickle.dump(y_test, output)\n",
    "    \n",
    "# df\n",
    "with open('Pickles/df.pickle', 'wb') as output:\n",
    "    pickle.dump(df, output)\n",
    "    \n",
    "# features_train\n",
    "with open('Pickles/features_train.pickle', 'wb') as output:\n",
    "    pickle.dump(features_train, output)\n",
    "\n",
    "# labels_train\n",
    "with open('Pickles/labels_train.pickle', 'wb') as output:\n",
    "    pickle.dump(labels_train, output)\n",
    "\n",
    "# features_test\n",
    "with open('Pickles/features_test.pickle', 'wb') as output:\n",
    "    pickle.dump(features_test, output)\n",
    "\n",
    "# labels_test\n",
    "with open('Pickles/labels_test.pickle', 'wb') as output:\n",
    "    pickle.dump(labels_test, output)\n",
    "    \n",
    "# TF-IDF object\n",
    "with open('Pickles/tfidf.pickle', 'wb') as output:\n",
    "    pickle.dump(tfidf, output)"
   ]
  }
 ],
 "metadata": {
  "kernelspec": {
   "display_name": "Python 3",
   "language": "python",
   "name": "python3"
  },
  "language_info": {
   "codemirror_mode": {
    "name": "ipython",
    "version": 3
   },
   "file_extension": ".py",
   "mimetype": "text/x-python",
   "name": "python",
   "nbconvert_exporter": "python",
   "pygments_lexer": "ipython3",
   "version": "3.8.5"
  }
 },
 "nbformat": 4,
 "nbformat_minor": 2
}
