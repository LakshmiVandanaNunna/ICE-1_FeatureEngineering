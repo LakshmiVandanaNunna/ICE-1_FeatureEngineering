{
 "cells": [
  {
   "cell_type": "markdown",
   "metadata": {},
   "source": [
    "# Model Interpretation"
   ]
  },
  {
   "cell_type": "markdown",
   "metadata": {},
   "source": [
    "At this point we have selected the SVM as our preferred model to do the predictions. We will now study its behaviour by analyzing misclassified articles. Hopefully this will give us some insights on the way the model is working."
   ]
  },
  {
   "cell_type": "code",
   "execution_count": 1,
   "metadata": {},
   "outputs": [],
   "source": [
    "import pickle\n",
    "import pandas as pd\n",
    "import numpy as np\n",
    "import random"
   ]
  },
  {
   "cell_type": "markdown",
   "metadata": {},
   "source": [
    "Let's load what we need:"
   ]
  },
  {
   "cell_type": "code",
   "execution_count": 2,
   "metadata": {},
   "outputs": [],
   "source": [
    "# Dataframe\n",
    "path_df = \"../03. Feature Engineering/Pickles/df.pickle\"\n",
    "with open(path_df, 'rb') as data:\n",
    "    df = pickle.load(data)\n",
    "    \n",
    "# X_train\n",
    "path_X_train = \"../03. Feature Engineering/Pickles/X_train.pickle\"\n",
    "with open(path_X_train, 'rb') as data:\n",
    "    X_train = pickle.load(data)\n",
    "\n",
    "# X_test\n",
    "path_X_test = \"../03. Feature Engineering/Pickles/X_test.pickle\"\n",
    "with open(path_X_test, 'rb') as data:\n",
    "    X_test = pickle.load(data)\n",
    "\n",
    "# y_train\n",
    "path_y_train = \"../03. Feature Engineering/Pickles/y_train.pickle\"\n",
    "with open(path_y_train, 'rb') as data:\n",
    "    y_train = pickle.load(data)\n",
    "\n",
    "# y_test\n",
    "path_y_test = \"../03. Feature Engineering/Pickles/y_test.pickle\"\n",
    "with open(path_y_test, 'rb') as data:\n",
    "    y_test = pickle.load(data)\n",
    "\n",
    "# features_train\n",
    "path_features_train = \"../03. Feature Engineering/Pickles/features_train.pickle\"\n",
    "with open(path_features_train, 'rb') as data:\n",
    "    features_train = pickle.load(data)\n",
    "\n",
    "# labels_train\n",
    "path_labels_train = \"../03. Feature Engineering/Pickles/labels_train.pickle\"\n",
    "with open(path_labels_train, 'rb') as data:\n",
    "    labels_train = pickle.load(data)\n",
    "\n",
    "# features_test\n",
    "path_features_test = \"../03. Feature Engineering/Pickles/features_test.pickle\"\n",
    "with open(path_features_test, 'rb') as data:\n",
    "    features_test = pickle.load(data)\n",
    "\n",
    "# labels_test\n",
    "path_labels_test = \"../03. Feature Engineering/Pickles/labels_test.pickle\"\n",
    "with open(path_labels_test, 'rb') as data:\n",
    "    labels_test = pickle.load(data)\n",
    "    \n",
    "# SVM Model\n",
    "path_model = \"../04. Model Training/Models/best_svc.pickle\"\n",
    "with open(path_model, 'rb') as data:\n",
    "    svc_model = pickle.load(data)\n",
    "    \n",
    "# Category mapping dictionary\n",
    "category_codes = {\n",
    "    'Autonomous Cars': 0,\n",
    "    'Others': 1,\n",
    "}\n",
    "\n",
    "category_names = {\n",
    "    0: 'Autonomous Cars',\n",
    "    1: 'Others',\n",
    "}"
   ]
  },
  {
   "cell_type": "markdown",
   "metadata": {},
   "source": [
    "Let's get the predictions on the test set:"
   ]
  },
  {
   "cell_type": "code",
   "execution_count": 3,
   "metadata": {},
   "outputs": [],
   "source": [
    "predictions = svc_model.predict(features_test)"
   ]
  },
  {
   "cell_type": "markdown",
   "metadata": {},
   "source": [
    "Now we'll create the Test Set dataframe with the actual and predicted categories:"
   ]
  },
  {
   "cell_type": "code",
   "execution_count": 4,
   "metadata": {},
   "outputs": [],
   "source": [
    "# Indexes of the test set\n",
    "index_X_test = X_test.index\n",
    "\n",
    "# We get them from the original df\n",
    "df_test = df.loc[index_X_test]\n",
    "\n",
    "# Add the predictions\n",
    "df_test['Prediction'] = predictions\n",
    "\n",
    "# Clean columns\n",
    "df_test = df_test[['Content', 'Category', 'Category_Code', 'Prediction']]\n",
    "\n",
    "# Decode\n",
    "df_test['Category_Predicted'] = df_test['Prediction']\n",
    "df_test = df_test.replace({'Category_Predicted':category_names})\n",
    "\n",
    "# Clean columns again\n",
    "df_test = df_test[['Content', 'Category', 'Category_Predicted']]"
   ]
  },
  {
   "cell_type": "code",
   "execution_count": 5,
   "metadata": {},
   "outputs": [
    {
     "data": {
      "text/html": [
       "<div>\n",
       "<style scoped>\n",
       "    .dataframe tbody tr th:only-of-type {\n",
       "        vertical-align: middle;\n",
       "    }\n",
       "\n",
       "    .dataframe tbody tr th {\n",
       "        vertical-align: top;\n",
       "    }\n",
       "\n",
       "    .dataframe thead th {\n",
       "        text-align: right;\n",
       "    }\n",
       "</style>\n",
       "<table border=\"1\" class=\"dataframe\">\n",
       "  <thead>\n",
       "    <tr style=\"text-align: right;\">\n",
       "      <th></th>\n",
       "      <th>Content</th>\n",
       "      <th>Category</th>\n",
       "      <th>Category_Predicted</th>\n",
       "    </tr>\n",
       "  </thead>\n",
       "  <tbody>\n",
       "    <tr>\n",
       "      <th>493</th>\n",
       "      <td>b'Is Chocolate Good for Your Heart?\\n\\nWhy a l...</td>\n",
       "      <td>Other</td>\n",
       "      <td>Others</td>\n",
       "    </tr>\n",
       "    <tr>\n",
       "      <th>131</th>\n",
       "      <td>b'Imagine a world with no car crashes. Our sel...</td>\n",
       "      <td>Autonomous Cars</td>\n",
       "      <td>Autonomous Cars</td>\n",
       "    </tr>\n",
       "    <tr>\n",
       "      <th>234</th>\n",
       "      <td>b'Python, C++, Linear Algebra and Calculus. Se...</td>\n",
       "      <td>Autonomous Cars</td>\n",
       "      <td>Autonomous Cars</td>\n",
       "    </tr>\n",
       "    <tr>\n",
       "      <th>25</th>\n",
       "      <td>b'Python, C++, Linear Algebra and Calculus. Se...</td>\n",
       "      <td>Autonomous Cars</td>\n",
       "      <td>Autonomous Cars</td>\n",
       "    </tr>\n",
       "    <tr>\n",
       "      <th>127</th>\n",
       "      <td>b\"Imagine getting into your car, typing\\xe2\\x8...</td>\n",
       "      <td>Autonomous Cars</td>\n",
       "      <td>Autonomous Cars</td>\n",
       "    </tr>\n",
       "  </tbody>\n",
       "</table>\n",
       "</div>"
      ],
      "text/plain": [
       "                                               Content         Category  \\\n",
       "493  b'Is Chocolate Good for Your Heart?\\n\\nWhy a l...            Other   \n",
       "131  b'Imagine a world with no car crashes. Our sel...  Autonomous Cars   \n",
       "234  b'Python, C++, Linear Algebra and Calculus. Se...  Autonomous Cars   \n",
       "25   b'Python, C++, Linear Algebra and Calculus. Se...  Autonomous Cars   \n",
       "127  b\"Imagine getting into your car, typing\\xe2\\x8...  Autonomous Cars   \n",
       "\n",
       "    Category_Predicted  \n",
       "493             Others  \n",
       "131    Autonomous Cars  \n",
       "234    Autonomous Cars  \n",
       "25     Autonomous Cars  \n",
       "127    Autonomous Cars  "
      ]
     },
     "execution_count": 5,
     "metadata": {},
     "output_type": "execute_result"
    }
   ],
   "source": [
    "df_test.head()"
   ]
  },
  {
   "cell_type": "markdown",
   "metadata": {},
   "source": [
    "Let's get the misclassified articles:"
   ]
  },
  {
   "cell_type": "code",
   "execution_count": 6,
   "metadata": {},
   "outputs": [
    {
     "data": {
      "text/html": [
       "<div>\n",
       "<style scoped>\n",
       "    .dataframe tbody tr th:only-of-type {\n",
       "        vertical-align: middle;\n",
       "    }\n",
       "\n",
       "    .dataframe tbody tr th {\n",
       "        vertical-align: top;\n",
       "    }\n",
       "\n",
       "    .dataframe thead th {\n",
       "        text-align: right;\n",
       "    }\n",
       "</style>\n",
       "<table border=\"1\" class=\"dataframe\">\n",
       "  <thead>\n",
       "    <tr style=\"text-align: right;\">\n",
       "      <th></th>\n",
       "      <th>Content</th>\n",
       "      <th>Category</th>\n",
       "      <th>Category_Predicted</th>\n",
       "    </tr>\n",
       "  </thead>\n",
       "  <tbody>\n",
       "    <tr>\n",
       "      <th>493</th>\n",
       "      <td>b'Is Chocolate Good for Your Heart?\\n\\nWhy a l...</td>\n",
       "      <td>Other</td>\n",
       "      <td>Others</td>\n",
       "    </tr>\n",
       "    <tr>\n",
       "      <th>408</th>\n",
       "      <td>b'If you think chocolate is heavenly, you\\'re ...</td>\n",
       "      <td>Other</td>\n",
       "      <td>Others</td>\n",
       "    </tr>\n",
       "    <tr>\n",
       "      <th>346</th>\n",
       "      <td>b'Is chocolate toxic to dogs?\\n\\nYes, chocolat...</td>\n",
       "      <td>Other</td>\n",
       "      <td>Others</td>\n",
       "    </tr>\n",
       "  </tbody>\n",
       "</table>\n",
       "</div>"
      ],
      "text/plain": [
       "                                               Content Category  \\\n",
       "493  b'Is Chocolate Good for Your Heart?\\n\\nWhy a l...    Other   \n",
       "408  b'If you think chocolate is heavenly, you\\'re ...    Other   \n",
       "346  b'Is chocolate toxic to dogs?\\n\\nYes, chocolat...    Other   \n",
       "\n",
       "    Category_Predicted  \n",
       "493             Others  \n",
       "408             Others  \n",
       "346             Others  "
      ]
     },
     "execution_count": 6,
     "metadata": {},
     "output_type": "execute_result"
    }
   ],
   "source": [
    "condition = (df_test['Category'] != df_test['Category_Predicted'])\n",
    "\n",
    "df_misclassified = df_test[condition]\n",
    "\n",
    "df_misclassified.head(3)"
   ]
  },
  {
   "cell_type": "markdown",
   "metadata": {},
   "source": [
    "Let's get a sample of 3 articles. We'll define a function to make this process faster:"
   ]
  },
  {
   "cell_type": "code",
   "execution_count": 7,
   "metadata": {},
   "outputs": [],
   "source": [
    "def output_article(row_article):\n",
    "    print('Actual Category: %s' %(row_article['Category']))\n",
    "    print('Predicted Category: %s' %(row_article['Category_Predicted']))\n",
    "    print('-------------------------------------------')\n",
    "    print('Text: ')\n",
    "    print('%s' %(row_article['Content']))"
   ]
  },
  {
   "cell_type": "markdown",
   "metadata": {},
   "source": [
    "We'll get three random numbers from the indexes:"
   ]
  },
  {
   "cell_type": "code",
   "execution_count": 8,
   "metadata": {},
   "outputs": [
    {
     "data": {
      "text/plain": [
       "[66, 311, 513]"
      ]
     },
     "execution_count": 8,
     "metadata": {},
     "output_type": "execute_result"
    }
   ],
   "source": [
    "random.seed(8)\n",
    "list_samples = random.sample(list(df_misclassified.index), 3)\n",
    "list_samples"
   ]
  },
  {
   "cell_type": "markdown",
   "metadata": {},
   "source": [
    "First case:"
   ]
  },
  {
   "cell_type": "code",
   "execution_count": 9,
   "metadata": {
    "scrolled": false
   },
   "outputs": [
    {
     "name": "stdout",
     "output_type": "stream",
     "text": [
      "Actual Category: Autonomous Cars\n",
      "Predicted Category: Others\n",
      "-------------------------------------------\n",
      "Text: \n",
      "b\"Company Name Country UNITED STATES UNITED KINGDOM CANADA AUSTRALIA INDIA ------ Afghanistan \\xc3\\x85land Islands Albania Algeria American Samoa Andorra Angola Anguilla Antarctica Antigua and Barbuda Argentina Armenia Aruba Austria Azerbaijan Bahamas Bahrain Bangladesh Barbados Belarus Belgium Belize Benin Bermuda Bhutan Bolivia Bonaire, Sint Eustatius and Saba Bosnia and Herzegovina Botswana Bouvet Island Brazil British Indian Ocean Territory Brunei Darussalam Bulgaria Burkina Faso Burundi Cambodia Cameroon Cape Verde Cayman Islands Central African Republic Chad Chile China Christmas Island Cocos (Keeling) Islands Colombia Comoros Congo Congo, The Democratic Republic of the Cook Islands Costa Rica C\\xc3\\xb4te D'Ivoire Croatia Cuba Cura\\xc3\\xa7ao Cura\\xc3\\xa7ao Cyprus Czech Republic Denmark Djibouti Dominica Dominican Republic Ecuador Egypt El Salvador Equatorial Guinea Eritrea Estonia Ethiopia Falkland Islands (Malvinas) Faroe Islands Fiji Finland France French Guiana French Polynesia French Southern Territories Gabon Gambia Georgia Germany Ghana Gibraltar Greece Greenland Grenada Guadeloupe Guam Guatemala Guernsey Guinea Guinea-Bissau Guyana Haiti Heard/McDonald Isls. Honduras Hong Kong Hungary Iceland Indonesia Iran, Islamic Republic of Iraq Ireland Isle of Man Israel Italy Jamaica Japan Jersey Jordan Kazakhstan Kenya Kiribati Korea, Democratic People's Republic of Korea, Republic of Kuwait Kyrgyzstan Lao People's Democratic Republic Latvia Lebanon Lesotho Liberia Libya Liechtenstein Lithuania Luxembourg Macao Macedonia, The Former Yugoslav Republic of Madagascar Malawi Malaysia Maldives Mali Malta Marshall Islands Martinique Mauritania Mauritius Mayotte Mexico Micronesia, Federated States of Moldova, Republic of Monaco Mongolia Montenegro Montserrat Morocco Mozambique Myanmar Namibia Nauru Nepal Netherlands Netherlands Antilles New Caledonia New Zealand Nicaragua Niger Nigeria Niue Norfolk Island Northern Mariana Islands Norway Oman Pakistan Palau Palestine, State of Panama Papua New Guinea Paraguay Peru Philippines Pitcairn Poland Portugal Puerto Rico Qatar R\\xc3\\xa9union Romania Russian Federation Rwanda Saint Barth\\xc3\\xa9lemy Saint Helena, Ascension and Tristan da Cunha Saint Kitts and Nevis Saint Lucia Saint Martin (French Part) Saint Pierre and Miquelon Saint Vincent and the Grenadines Samoa San Marino Sao Tome and Principe Saudi Arabia Senegal Serbia Serbia and Montenegro Seychelles Sierra Leone Singapore Sint Maarten (Dutch Part) Slovakia Slovenia Solomon Islands Somalia South Africa South Georgia and the South Sandwich Islands South Sudan Spain Sri Lanka Sudan Suriname Svalbard and Jan Mayen Swaziland Sweden Switzerland Syrian Arab Republic Taiwan Tajikistan Tanzania, United Republic of Thailand Timor-Leste Togo Tokelau Tonga Trinidad and Tobago Tunisia Turkey Turkmenistan Turks and Caicos Islands Tuvalu Uganda Ukraine United Arab Emirates United States Minor Outlying Islands Uruguay Uzbekistan Vanuatu Vatican City Venezuela, Bolivarian Republic of Viet Nam Virgin Islands, British Virgin Islands, U.S. Wallis and Futuna Western Sahara Yemen Zambia Zimbabwe\"\n"
     ]
    }
   ],
   "source": [
    "output_article(df_misclassified.loc[list_samples[0]])"
   ]
  },
  {
   "cell_type": "code",
   "execution_count": null,
   "metadata": {},
   "outputs": [],
   "source": [
    "We can see that in all cases the category is not 100% clear, since these articles are neutral. These errors will always happen and we are not looking forward to be 100% accurate on them."
   ]
  },
  {
   "cell_type": "markdown",
   "metadata": {},
   "source": [
    "Second case:"
   ]
  },
  {
   "cell_type": "code",
   "execution_count": 10,
   "metadata": {},
   "outputs": [
    {
     "name": "stdout",
     "output_type": "stream",
     "text": [
      "Actual Category: Other\n",
      "Predicted Category: Others\n",
      "-------------------------------------------\n",
      "Text: \n",
      "b'First Alert Forecast: plenty of sun for Sunday, rip currents low before Larry sweeps by the US\\n\\nWILMINGTON, N.C. (WECT) - Good to see you this Sunday! This weekend may mark the unofficial end of summer, but Your First Alert Forecast for Labor Day weekend features weather for summer and fall weather lovers alike! Expect another clear and cool morning with temperatures in the 60s - and perhaps 50s in isolated cases - and finishes with a toasty Labor Day Monday with humid 90s sneaking back into the fold.\\n\\nRead More...'\n"
     ]
    }
   ],
   "source": [
    "output_article(df_misclassified.loc[list_samples[1]])"
   ]
  },
  {
   "cell_type": "markdown",
   "metadata": {},
   "source": [
    "Third case:"
   ]
  },
  {
   "cell_type": "code",
   "execution_count": 11,
   "metadata": {},
   "outputs": [
    {
     "name": "stdout",
     "output_type": "stream",
     "text": [
      "Actual Category: Other\n",
      "Predicted Category: Others\n",
      "-------------------------------------------\n",
      "Text: \n",
      "b'Share on Pinterest Screen Moment/Stocksy United Dark chocolate is loaded with nutrients that can positively affect your health. Made from the seed of the cacao tree, it\\xe2\\x80\\x99s one of the best sources of antioxidants you can find. Studies show that dark chocolate can improve your health and lower the risk of heart disease. This article reviews 7 health benefits of dark chocolate or cocoa that are supported by science.\\n\\n1. Very nutritious If you buy quality dark chocolate with a high cocoa content, then it\\xe2\\x80\\x99s quite nutritious. It contains a decent amount of soluble fiber and is loaded with minerals. A 100-gram bar of dark chocolate with 70\\xe2\\x80\\x9385% cocoa contains (1): 11 grams of fiber\\n\\n67% of the DV for iron\\n\\n58% of the DV for magnesium\\n\\n89% of the DV for copper\\n\\n98% of the DV for manganese In addition, it has plenty of potassium, phosphorus, zinc, and selenium. Of course, 100 grams (3.5 ounces) is a fairly large amount and not something you should be consuming daily. These nutrients also come with 600 calories and moderate amounts of sugar. For this reason, dark chocolate is best consumed in moderation. The fatty acid profile of cocoa and dark chocolate is also good. The fats consist mostly of oleic acid (a heart-healthy fat also found in olive oil), stearic acid, and palmitic acid. The stearic acid has a neutral effect on body cholesterol. Palmitic acid can raise cholesterol levels, but it only makes up one-third of the total fat calories. Dark chocolate also contains stimulants like caffeine and theobromine, but it\\xe2\\x80\\x99s unlikely to keep you awake at night, as the amount of caffeine is very small compared with coffee. Summary Quality dark chocolate is rich in fiber, iron, magnesium, copper, manganese, and a few other minerals.\\n\\n2. Powerful source of antioxidants ORAC stands for oxygen radical absorbance capacity. It\\xe2\\x80\\x99s a measure of the antioxidant activity of foods. Basically, researchers set a bunch of free radicals (bad) against a sample of a food and see how well the antioxidants in the food can disarm the free radicals. The biological relevance of ORAC values is questioned, as it\\xe2\\x80\\x99s measured in a test tube and may not have the same effect in the body. However, it\\xe2\\x80\\x99s worth mentioning that raw, unprocessed cocoa beans are among the highest-scoring foods that have been tested. Dark chocolate is loaded with organic compounds that are biologically active and function as antioxidants. These include polyphenols, flavanols and catechins, among others. One study showed that cocoa and dark chocolate had more antioxidant activity, polyphenols, and flavanols than any other fruits tested, which included blueberries and acai berries (2). Summary Cocoa and dark chocolate have a wide variety of powerful antioxidants. In fact, they have way more than most other foods.\\n\\n3. May improve blood flow and lower blood pressure The flavanols in dark chocolate can stimulate the endothelium, the lining of arteries, to produce nitric oxide (NO) ( 3 ). One of the functions of NO is to send signals to the arteries to relax, which lowers the resistance to blood flow and therefore reduces blood pressure. Many controlled studies show that cocoa and dark chocolate can improve blood flow and lower blood pressure, though the effects are usually mild ( 4 , 5 , 6 , 7 ). However, one study in people with high blood pressure showed no effect, so take this with a grain of salt ( 8 ). Given the great variation between studies on this subject, it\\xe2\\x80\\x99s clear that more research is needed ( 9 , 10). Summary The bioactive compounds in cocoa may improve blood flow in the arteries and cause a small but statistically significant decrease in blood pressure.\\n\\n4. Raises HDL and protects LDL from oxidation Consuming dark chocolate can improve several important risk factors for heart disease. In a controlled study, cocoa powder was found to significantly decrease oxidized LDL (bad) cholesterol in men. It also increased HDL and lowered total LDL for those with high cholesterol ( 11 ). Oxidized LDL means that the LDL cholesterol has reacted with free radicals. This makes the LDL particle itself reactive and capable of damaging other tissues, such as the lining of the arteries in your heart. It makes perfect sense that cocoa lowers oxidized LDL. It contains an abundance of powerful antioxidants that do make it into the bloodstream and protect lipoproteins against oxidative damage ( 12 , 13 , 14 ). The flavanols in dark chocolate can also reduce insulin resistance, which is another common risk factor for diseases like heart disease and diabetes ( 15 , 16 , 17 ). However, dark chocolate also contains sugar, which can have the opposite effect. Summary Dark chocolate improves several important risk factors for disease. It lowers the susceptibility of LDL to oxidative damage while increasing HDL and improving insulin sensitivity.\\n\\n5. May reduce heart disease risk The compounds in dark chocolate appear to be highly protective against the oxidation of LDL. In the long term, this should cause much less cholesterol to lodge in the arteries, resulting in a lower risk of heart disease. In fact, several long-term observational studies show a fairly drastic improvement. In a study of 470 older men, cocoa was found to reduce the risk of death from heart disease by 50% over 15 years ( 18 ). Another study revealed that eating chocolate two or more times per week lowered the risk of having calcified plaque in the arteries by 32%. Eating chocolate less frequently had no effect ( 19 ). Yet another study showed that eating dark chocolate more than five times per week lowered the risk of heart disease by 57% ( 20 ). A 2017 clinical trial found that subjects who consumed almonds with or without dark chocolate showed improved LDL cholesterol levels (21). Of course, these four studies are observational, so it\\xe2\\x80\\x99s unclear exactly if it was the chocolate that reduced the risk. However, since the biological process is known (lower blood pressure and oxidized LDL), it\\xe2\\x80\\x99s plausible that regularly eating dark chocolate may reduce the risk of heart disease. Summary Observational studies show a drastic reduction in heart disease risk among those who consume the most chocolate.\\n\\n6. May protect your skin from the sun The bioactive compounds in dark chocolate may also be great for your skin. The flavanols can protect against sun damage, improve blood flow to the skin, and increase skin density and hydration ( 22 ). The minimal erythemal dose (MED) is the minimum amount of UVB rays required to cause redness in the skin 24 hours after exposure. In one study of 30 people, the MED more than doubled after consuming dark chocolate high in flavanols for 12 weeks ( 23 ). If you\\xe2\\x80\\x99re planning a beach vacation, consider enjoying some extra dark chocolate in the prior weeks and months. But check with your doctor or dermatologist before forgoing your normal skin care routine in favor of more dark chocolate. Summary Studies show that the flavanols from cocoa can improve blood flow to the skin and protect it from sun damage.\\n\\n7. Could improve brain function The good news isn\\xe2\\x80\\x99t over yet. Dark chocolate may also improve the function of your brain. One study of healthy volunteers showed that eating high flavanol cocoa for 5 days improved blood flow to the brain ( 24 ). Cocoa may also significantly improve cognitive function in older adults with mild cognitive impairment. It may improve verbal fluency and several risk factors for disease, as well ( 25 ). Additionally, cocoa contains stimulant substances like caffeine and theobromine, which may be a key reason why it can improve brain function in the short term ( 26 ). Summary Cocoa or dark chocolate may improve brain function by increasing blood flow. It also contains stimulants like caffeine and theobromine.'\n"
     ]
    }
   ],
   "source": [
    "output_article(df_misclassified.loc[list_samples[2]])"
   ]
  },
  {
   "cell_type": "markdown",
   "metadata": {},
   "source": [
    "We can see that in all cases the category is not 100% clear, since these articles contain concepts of both categories. These errors will always happen and we are not looking forward to be 100% accurate on them."
   ]
  }
 ],
 "metadata": {
  "kernelspec": {
   "display_name": "Python 3",
   "language": "python",
   "name": "python3"
  },
  "language_info": {
   "codemirror_mode": {
    "name": "ipython",
    "version": 3
   },
   "file_extension": ".py",
   "mimetype": "text/x-python",
   "name": "python",
   "nbconvert_exporter": "python",
   "pygments_lexer": "ipython3",
   "version": "3.8.5"
  }
 },
 "nbformat": 4,
 "nbformat_minor": 2
}
