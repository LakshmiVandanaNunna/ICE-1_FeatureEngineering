{
 "cells": [
  {
   "cell_type": "markdown",
   "id": "french-pollution",
   "metadata": {},
   "source": [
    "## Import Libraries"
   ]
  },
  {
   "cell_type": "code",
   "execution_count": 1,
   "id": "purple-direction",
   "metadata": {},
   "outputs": [
    {
     "name": "stderr",
     "output_type": "stream",
     "text": [
      "[nltk_data] Downloading package punkt to\n",
      "[nltk_data]     C:\\Users\\mohan\\AppData\\Roaming\\nltk_data...\n",
      "[nltk_data]   Package punkt is already up-to-date!\n"
     ]
    },
    {
     "name": "stdout",
     "output_type": "stream",
     "text": [
      "Requirement already satisfied: nest_asyncio in c:\\programdata\\anaconda3\\lib\\site-packages (1.5.1)\n"
     ]
    }
   ],
   "source": [
    "from search_engine_parser import GoogleSearch\n",
    "from googlesearch import search\n",
    "import newspaper\n",
    "from newspaper import Article\n",
    "\n",
    "import nltk\n",
    "nltk.download('punkt')\n",
    "!pip install nest_asyncio\n",
    "import nest_asyncio\n",
    "nest_asyncio.apply()\n",
    "\n"
   ]
  },
  {
   "cell_type": "markdown",
   "id": "close-lambda",
   "metadata": {},
   "source": [
    "## Functions to retrieve articles via google API , download and save each article to an individual file"
   ]
  },
  {
   "cell_type": "code",
   "execution_count": 2,
   "id": "treated-support",
   "metadata": {},
   "outputs": [],
   "source": [
    "def google(query):\n",
    "    gresults = search(query,1000)\n",
    "    return gresults\n",
    "\n",
    "def download_Articles(count,query,results):\n",
    "    for result in results:\n",
    "        try:\n",
    "            count+=1\n",
    "            article = Article(result)\n",
    "            article.download()\n",
    "            article.parse()\n",
    "            article.nlp()\n",
    "            file1=open(query+ str(count) + \".txt\", \"w\")\n",
    "            file1.write(str(article.text.encode('utf-8')))\n",
    "            file1.close()\n",
    "        except:\n",
    "            continue\n"
   ]
  },
  {
   "cell_type": "markdown",
   "id": "listed-collaboration",
   "metadata": {},
   "source": [
    "## Call above functions to retrieve articles based on keywords"
   ]
  },
  {
   "cell_type": "code",
   "execution_count": null,
   "id": "determined-configuration",
   "metadata": {},
   "outputs": [],
   "source": [
    "results=google('Autonomous Cars')\n",
    "download_Articles(x,\"Autonomous Cars/\",results)\n",
    "results=google('Chocolate')\n",
    "download_Articles(x,\"Others/\",results)\n",
    "\n"
   ]
  }
 ],
 "metadata": {
  "kernelspec": {
   "display_name": "Python 3",
   "language": "python",
   "name": "python3"
  },
  "language_info": {
   "codemirror_mode": {
    "name": "ipython",
    "version": 3
   },
   "file_extension": ".py",
   "mimetype": "text/x-python",
   "name": "python",
   "nbconvert_exporter": "python",
   "pygments_lexer": "ipython3",
   "version": "3.8.5"
  }
 },
 "nbformat": 4,
 "nbformat_minor": 5
}
